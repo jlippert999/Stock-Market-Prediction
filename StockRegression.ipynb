{
 "cells": [
  {
   "cell_type": "markdown",
   "metadata": {},
   "source": [
    "# Linear Regression using stock market data and stock technical indicators\n",
    "\n",
    "This is a simple example using Linear Regression to predict stock prices. Stock data is loaded from the web using pandas datareader, a few features are added, and predictions are made using Linear Regression.\n",
    "\n",
    "Secondly, multiple features are added (although not throughly thought out) by calculating technical indicators using TA-Lib. Normally this is not recommended as it leads to overfitting (and quite possibly just creating a lot of noise).\n",
    "\n",
    "When time permits, I will dive deeper into the technical indicators, apply them properly, and use backward elimination to find those that add value to the model."
   ]
  },
  {
   "cell_type": "code",
   "execution_count": 15,
   "metadata": {},
   "outputs": [],
   "source": [
    "import pandas as pd\n",
    "import pandas_datareader.data as web\n",
    "import numpy as np\n",
    "import warnings\n",
    "import datetime\n",
    "from datetime import datetime as dt, timedelta\n",
    "import time\n",
    "warnings.filterwarnings('ignore')\n",
    "\n",
    "# machine learning...\n",
    "from sklearn import preprocessing, svm, cross_validation\n",
    "from sklearn.model_selection import cross_val_score\n",
    "from sklearn.linear_model import LinearRegression\n",
    "\n",
    "# visualization...\n",
    "import matplotlib \n",
    "import matplotlib.pyplot as plt\n",
    "import matplotlib.pylab as pylab\n",
    "from matplotlib.finance import candlestick_ohlc\n",
    "import matplotlib.dates as mdates\n",
    "\n",
    "# to calculate technical indicators\n",
    "import talib\n",
    "from talib.abstract import *\n",
    "\n",
    "matplotlib.style.use('ggplot')\n",
    "import sys"
   ]
  },
  {
   "cell_type": "markdown",
   "metadata": {},
   "source": [
    "## Load open, high, low, close data for Apple\n",
    "\n",
    "Load data for Apple using pandas datareader (Investors Exchange data)\n",
    " - more info: http://pandas-datareader.readthedocs.io/en/latest/remote_data.html#remote-data-iex"
   ]
  },
  {
   "cell_type": "code",
   "execution_count": 51,
   "metadata": {},
   "outputs": [
    {
     "name": "stdout",
     "output_type": "stream",
     "text": [
      "5y\n",
      "<class 'pandas.core.frame.DataFrame'>\n",
      "DatetimeIndex: 1259 entries, 2013-06-17 to 2018-06-14\n",
      "Data columns (total 5 columns):\n",
      "open      1259 non-null float64\n",
      "high      1259 non-null float64\n",
      "low       1259 non-null float64\n",
      "close     1259 non-null float64\n",
      "volume    1259 non-null int64\n",
      "dtypes: float64(4), int64(1)\n",
      "memory usage: 59.0 KB\n"
     ]
    },
    {
     "data": {
      "text/plain": [
       "DatetimeIndex(['2013-06-17', '2013-06-18', '2013-06-19', '2013-06-20',\n",
       "               '2013-06-21', '2013-06-24', '2013-06-25', '2013-06-26',\n",
       "               '2013-06-27', '2013-06-28',\n",
       "               ...\n",
       "               '2018-06-01', '2018-06-04', '2018-06-05', '2018-06-06',\n",
       "               '2018-06-07', '2018-06-08', '2018-06-11', '2018-06-12',\n",
       "               '2018-06-13', '2018-06-14'],\n",
       "              dtype='datetime64[ns]', name='date', length=1259, freq=None)"
      ]
     },
     "execution_count": 51,
     "metadata": {},
     "output_type": "execute_result"
    }
   ],
   "source": [
    "ticker = \"AAPL\"\n",
    "start = dt.today() - timedelta(days=5*365)\n",
    "end = dt.now()\n",
    "\n",
    "df = web.DataReader(ticker, 'iex', start, end) \n",
    "\n",
    "# convert index to datetime...\n",
    "df.index = pd.to_datetime(df.index)\n",
    "\n",
    "df.info()\n",
    "df.tail()\n",
    "df.index"
   ]
  },
  {
   "cell_type": "markdown",
   "metadata": {},
   "source": [
    "## Display as candlestick"
   ]
  },
  {
   "cell_type": "code",
   "execution_count": 17,
   "metadata": {},
   "outputs": [
    {
     "data": {
      "image/png": "[encoded data removed]",
      "text/plain": [
       "<matplotlib.figure.Figure at 0x16b3bde8fd0>"
      ]
     },
     "metadata": {},
     "output_type": "display_data"
    }
   ],
   "source": [
    "# pull date out of index and convert\n",
    "df['date']= matplotlib.dates.date2num(df.index.to_pydatetime())\n",
    "\n",
    "# plot from beginning of year...\n",
    "start = matplotlib.dates.datestr2num('2018-01-01')\n",
    "\n",
    "# dataframe to plot\n",
    "ohlc =  df[['date','open','high','low','close']][df.date > start]\n",
    "f1, ax = plt.subplots(figsize = (15,5))\n",
    "\n",
    "# plot the candlesticks\n",
    "candlestick_ohlc(ax, ohlc.values, width=.6, colorup='green', colordown='red')\n",
    "ax.xaxis.set_major_formatter(mdates.DateFormatter('%Y-%m'))\n",
    "\n",
    "plt.show()\n",
    "\n",
    "# drop date column used for plot\n",
    "df = df.drop('date', axis=1)"
   ]
  },
  {
   "cell_type": "code",
   "execution_count": 4,
   "metadata": {},
   "outputs": [
    {
     "name": "stdout",
     "output_type": "stream",
     "text": [
      "date\n",
      "2018-05-01    168.4505\n",
      "2018-05-02    175.8918\n",
      "2018-05-03    176.2106\n",
      "2018-05-04    183.1239\n",
      "2018-05-07    184.4488\n",
      "2018-05-08    185.3354\n",
      "2018-05-09    186.6404\n",
      "2018-05-10    189.3101\n",
      "2018-05-11    188.5900\n",
      "2018-05-14    188.1500\n",
      "2018-05-15    186.4400\n",
      "2018-05-16    188.1800\n",
      "2018-05-17    186.9900\n",
      "2018-05-18    186.3100\n",
      "2018-05-21    187.6300\n",
      "2018-05-22    187.1600\n",
      "2018-05-23    188.3600\n",
      "2018-05-24    188.1500\n",
      "2018-05-25    188.5800\n",
      "2018-05-29    187.9000\n",
      "2018-05-30    187.5000\n",
      "2018-05-31    186.8700\n",
      "2018-06-01    190.2400\n",
      "2018-06-04    191.8300\n",
      "2018-06-05    193.3100\n",
      "2018-06-06    193.9800\n",
      "2018-06-07    193.4600\n",
      "2018-06-08    191.7000\n",
      "Name: close, dtype: float64\n"
     ]
    }
   ],
   "source": [
    "print(df['20180501':pd.to_datetime('today')].close)"
   ]
  },
  {
   "cell_type": "markdown",
   "metadata": {},
   "source": [
    "## Add a few Features to the data (later we'll add plenty more!)"
   ]
  },
  {
   "cell_type": "code",
   "execution_count": 52,
   "metadata": {
    "collapsed": true
   },
   "outputs": [],
   "source": [
    "# high low %...\n",
    "df['highlow_pct'] = (df['high'] - df['low']) / (df['low']*100)\n",
    "\n",
    "# percent change...\n",
    "df['pct_change'] = (df['close'] - df['open']) / (df['open']*100)\n",
    "\n",
    "# return...\n",
    "df['return']  =np.log(df['open'] / df['open'].shift(1))\n",
    "df.dropna(inplace=True)"
   ]
  },
  {
   "cell_type": "markdown",
   "metadata": {},
   "source": [
    "## Prepare the data for classification\n",
    "- set the target column (dependant variable)\n",
    "- how many days forward to predict"
   ]
  },
  {
   "cell_type": "markdown",
   "metadata": {},
   "source": [
    "Next, add a new column target_close that contains the close price n days into the future (n=prediction_days)\n"
   ]
  },
  {
   "cell_type": "markdown",
   "metadata": {},
   "source": [
    "#### Feature Matrix\n",
    "create a feature matrix with all the columns except target_close and scale the data"
   ]
  },
  {
   "cell_type": "code",
   "execution_count": 53,
   "metadata": {},
   "outputs": [
    {
     "name": "stdout",
     "output_type": "stream",
     "text": [
      "[[  5.62554000e+01   5.62893000e+01   5.51600000e+01 ...,   2.04731690e-04\n",
      "   -1.94719085e-04  -3.71450893e-04]\n",
      " [  5.46775000e+01   5.55486000e+01   5.41390000e+01 ...,   2.60366834e-04\n",
      "   -5.87078780e-05  -2.84497462e-02]\n",
      " [  5.45719000e+01   5.47688000e+01   5.32171000e+01 ...,   2.91579210e-04\n",
      "   -1.19237190e-04  -1.93319200e-03]\n",
      " ..., \n",
      " [  1.91350000e+02   1.91970000e+02   1.90210000e+02 ...,   9.25293097e-05\n",
      "   -6.27123073e-06   9.41127331e-04]\n",
      " [  1.91385000e+02   1.92611000e+02   1.91150000e+02 ...,   7.64321214e-05\n",
      "    4.67643755e-05   1.82894170e-04]\n",
      " [  1.92420000e+02   1.92880000e+02   1.90440000e+02 ...,   1.28124344e-04\n",
      "   -8.93877975e-05   5.39337689e-03]]\n"
     ]
    }
   ],
   "source": [
    "# set feature matrix to all columns (last row may not contain a price for close...ignore)\n",
    "X = np.array(df.drop(df.index[len(df)-1]))\n",
    "print(X[1:])\n",
    "\n",
    "# scale features using sklearn preprocessing scale\n",
    "#X = preprocessing.scale(X)\n",
    "#print(X[1:])"
   ]
  },
  {
   "cell_type": "markdown",
   "metadata": {},
   "source": [
    "Set y to the close -1 day (this is what the model will predict)"
   ]
  },
  {
   "cell_type": "code",
   "execution_count": 54,
   "metadata": {},
   "outputs": [],
   "source": [
    "y = df['close'].shift(-1)\n",
    "y.drop(y.index[len(y)-1], inplace=True)\n",
    "y = np.array(y)"
   ]
  },
  {
   "cell_type": "markdown",
   "metadata": {},
   "source": [
    "### Create Test and Train sets\n",
    "Use Cross validation to split into test and train data)"
   ]
  },
  {
   "cell_type": "code",
   "execution_count": 55,
   "metadata": {},
   "outputs": [
    {
     "name": "stdout",
     "output_type": "stream",
     "text": [
      "length of X_train and x_test:  1005 252\n"
     ]
    }
   ],
   "source": [
    "X_train, X_test, y_train, y_test = cross_validation.train_test_split(X, y, test_size = 0.2, random_state=42)\n",
    "\n",
    "print('length of X_train and x_test: ', len(X_train), len(X_test))"
   ]
  },
  {
   "cell_type": "markdown",
   "metadata": {},
   "source": [
    "## Classify with Linear Regression"
   ]
  },
  {
   "cell_type": "code",
   "execution_count": 56,
   "metadata": {},
   "outputs": [
    {
     "name": "stdout",
     "output_type": "stream",
     "text": [
      "Accuracy of Linear Regression:  0.997498012633\n"
     ]
    }
   ],
   "source": [
    "clf = LinearRegression()\n",
    "clf.fit(X_train,y_train)\n",
    "\n",
    "accuracy = clf.score(X_test, y_test)\n",
    "print(\"Accuracy of Linear Regression: \", accuracy)"
   ]
  },
  {
   "cell_type": "markdown",
   "metadata": {},
   "source": [
    "### Get the predictions"
   ]
  },
  {
   "cell_type": "code",
   "execution_count": 57,
   "metadata": {},
   "outputs": [
    {
     "name": "stdout",
     "output_type": "stream",
     "text": [
      "[ 186.88560789  117.08681332   99.06003269  104.49238418  111.55547411\n",
      "  119.76324061  159.92620377  113.69376272  107.47534608  165.22478416\n",
      "  118.71661626  109.08465807   96.29449235   95.30934289  108.35218397\n",
      "  155.55315918  112.81599961   64.33891066  112.68279811  109.26415129\n",
      "  116.50660676  167.38542017   60.61629804  111.7897827   121.13737161\n",
      "   96.29664136  144.26114385   87.40082531   94.93348823   90.66384934\n",
      "  139.46353959  154.25076293  146.26699603  146.44261616   71.11662286\n",
      "  169.15404195  106.54470983   66.07594458   92.89526637  102.32800324\n",
      "  106.41594795  113.62470036  170.65317491   78.76116557  105.52115416\n",
      "  134.03726592  113.9473019   108.79350712   73.41357222  109.46004597\n",
      "  166.52673142   91.06365323   89.91411677  104.94572209  112.52685959\n",
      "   65.27244431   79.30456213  119.47053208  151.59945698  151.101908\n",
      "  109.88799464   69.32751894  152.52245847   94.44596566  188.41840136\n",
      "  109.95361601  113.32035487  124.73648328   97.21747805   94.65331634\n",
      "  106.17048538  102.88752237   93.56801753  134.41523598   92.39504569\n",
      "  188.00084833  143.45710558  178.04744434  125.68043326  186.22481798\n",
      "  153.67630703  136.35180819   68.7167975    95.93378173   92.89685685\n",
      "   63.88802331  108.85049382   92.32663237   93.36642034  105.3401179\n",
      "  102.24918477  105.95695432   89.46954486   65.91433392  119.07730001\n",
      "   66.95842272  151.47191103  121.32161656   85.78176922  119.27287106\n",
      "  101.48737662  105.39413864   67.86838289   64.77920403   87.50188463\n",
      "  103.13333838  119.775091    107.26187015  119.24303915  171.5439062\n",
      "   87.79061658  172.68551571  118.66362942  117.84646262  108.46460087\n",
      "   69.29002208  168.61199168  161.43666184  120.24816129   88.55567745\n",
      "  153.45701591   93.67897992  104.5990185    78.45473155  193.28638496\n",
      "   86.68712707  173.57193179  125.07528269  113.27234523   54.69924758\n",
      "   84.52099127  124.83412877  137.80939219   66.92947021   90.14675252\n",
      "  145.84294194   69.05579595   97.10458647   65.96046219   62.21465765\n",
      "  137.31816346   91.38925372  148.25812949  120.50962953  107.5233533\n",
      "  105.76195072  119.15916707   94.17055766  185.05159476  102.63689018\n",
      "   74.02170957  143.35092146  113.16094473  173.17363      95.25988744\n",
      "   93.80745282  110.80010746  177.89328383   95.34997675   64.58272355\n",
      "  154.07380791   78.99179523  158.63473997   84.16611142  103.15256465\n",
      "   84.8659876   177.61174266  122.73740118  102.41513351   94.37502698\n",
      "  147.55880321  158.17750451  113.25324777  114.27993504  140.79439264\n",
      "  113.87041666  111.37666517  172.5461332   120.85346154   86.01296114\n",
      "   74.76643694  141.09114527  152.7423087   119.64065898  173.49866546\n",
      "  172.54365511  111.40681911  109.72969957  112.8998657    93.44158735\n",
      "   92.61279238  134.29028347  121.46731627   74.37952073   73.20119782\n",
      "  121.66503869   88.75492407  106.04207743   70.59024826  142.85165776\n",
      "   84.54505962  164.15398027   71.36731174   95.22435691   69.1198704\n",
      "  140.88355151  102.99786329  120.66709297   71.65613494   88.74988127\n",
      "   87.14566549  156.8880653   104.6702582    64.14145835  150.76025006\n",
      "  150.37063671   70.69466051  156.52475584  114.61184595  187.73108817\n",
      "  108.88273925   59.5787235    92.15006349   68.61751086  120.24117655\n",
      "  101.8747883   111.58826675  101.60106954   64.41283448  154.90761181\n",
      "  172.53353562   94.2054159   106.3589585   110.75257081   96.48795048\n",
      "  151.95426592  118.69421295  173.08440949  105.63633921  185.35338208\n",
      "   71.69643444   55.71427627  115.59820667   66.62582333   70.63856003\n",
      "   92.83206279   85.48458958  169.95638329  154.04847115  108.35080289\n",
      "  187.31574487  104.89314247]\n"
     ]
    }
   ],
   "source": [
    "predictions = clf.predict(X_test)\n",
    "print(predictions)"
   ]
  },
  {
   "cell_type": "markdown",
   "metadata": {},
   "source": [
    "## Predict the last 30 days"
   ]
  },
  {
   "cell_type": "code",
   "execution_count": 58,
   "metadata": {
    "collapsed": true
   },
   "outputs": [],
   "source": [
    "# get last 30 days...\n",
    "test = df.ix[-30:,]  \n",
    "\n",
    "result = df.ix[-30:]  \n",
    "\n",
    "# save last 30 days predictions\n",
    "result['Predicted'] =  clf.predict(test)"
   ]
  },
  {
   "cell_type": "markdown",
   "metadata": {},
   "source": [
    "# Plot the predictions with the actual close"
   ]
  },
  {
   "cell_type": "code",
   "execution_count": 59,
   "metadata": {},
   "outputs": [
    {
     "data": {
      "image/png": "[encoded data removed]",
      "text/plain": [
       "<matplotlib.figure.Figure at 0x16b3bbf70f0>"
      ]
     },
     "metadata": {},
     "output_type": "display_data"
    }
   ],
   "source": [
    "df_plot = pd.DataFrame(df['close'])\n",
    "df_plot = df_plot.join(result['Predicted'])\n",
    "\n",
    "df_plot['20180401':pd.to_datetime('today')]['close'].plot(figsize=(15,6), color=\"green\", label='Close') \n",
    "df_plot['20180401':pd.to_datetime('today')]['Predicted'].plot(figsize=(15,6), color=\"blue\", label='Prediction 1') \n",
    "\n",
    "plt.legend(loc=4)\n",
    "plt.xlabel('Date')\n",
    "plt.ylabel('Price')\n",
    "plt.show()"
   ]
  },
  {
   "cell_type": "markdown",
   "metadata": {},
   "source": [
    "# Further Feature Engineering\n",
    "### Technical Analysis Indicators\n",
    "Now, brute force a bunch of stock indicators as features and re-classify.  Normally you would apply domain knowledge to properly setup each indicator and then go through the process of features elimination, but in order to save time lets just plow in a bunch of indicators to see if the prediction improves.\n",
    "\n",
    "Indicators were generated using TA-Lib (https://mrjbq7.github.io/ta-lib/).  In all cases the defaults were used for all functions."
   ]
  },
  {
   "cell_type": "markdown",
   "metadata": {},
   "source": [
    "### Function to generate features"
   ]
  },
  {
   "cell_type": "code",
   "execution_count": 65,
   "metadata": {
    "collapsed": true
   },
   "outputs": [],
   "source": [
    "# Overlap Studies Functions\n",
    "bb = BBANDS(df, timeperiod=5, nbdevup=2, nbdevdn=2, matype=0)\n",
    "df['bbup'] = bb.upperband\n",
    "df['bbmid'] = bb.middleband\n",
    "df['bblow'] = bb.lowerband\n",
    "df['DEMA'] = DEMA(df, timeperiod=30)\n",
    "df['EMA'] = EMA(df, timeperiod=30)\n",
    "df['HT_TRENDLINE'] = HT_TRENDLINE(df)\n",
    "df['KAMA'] = KAMA(df, timeperiod=30)\n",
    "df['MA'] = MA(df, timeperiod=30, matype=0)\n",
    "df['MIDPOINT'] = MIDPOINT(df, timeperiod=14)\n",
    "df['MIDPRICE'] = MIDPRICE(df, timeperiod=14)\n",
    "df['SAR'] = SAR(df, acceleration=0, maximum=0)\n",
    "df['SAREXT'] = SAREXT(df, startvalue=0, offsetonreverse=0, accelerationinitlong=0, accelerationlong=0, accelerationmaxlong=0, accelerationinitshort=0, accelerationshort=0, accelerationmaxshort=0)\n",
    "df['SMA'] = SMA(df, timeperiod=30)\n",
    "df['T3'] = T3(df, timeperiod=5, vfactor=0)\n",
    "df['TEMA'] = TEMA(df, timeperiod=30)\n",
    "df['TRIMA'] = TRIMA(df, timeperiod=30)\n",
    "df['WMA'] = WMA(df, timeperiod=30)\n",
    "#\n",
    "# Momentum Indicator Functions\n",
    "#\n",
    "df['ADX'] = ADX(df, timeperiod=14)\n",
    "df['APO'] = APO(df, fastperiod=12, slowperiod=26, matype=0)\n",
    "dftemp = AROON(df, timeperiod=14)\n",
    "df['AroonDown'] = dftemp.aroondown\n",
    "df['AroonUp'] = dftemp.aroonup\n",
    "df['AroonOsc'] = AROONOSC(df, timeperiod=14)\n",
    "df['BOP'] = BOP(df)\n",
    "df['CCI'] = CCI(df, timeperiod=14)\n",
    "df['CMO'] = CMO(df, timeperiod=14)\n",
    "df['DX'] = DX(df, timeperiod=14)\n",
    "dftemp =  MACDFIX(df, signalperiod=9)\n",
    "df['MACD'] = dftemp.macd\n",
    "df['MACDsignal'] = dftemp.macdsignal\n",
    "df['MACDhist'] = dftemp.macdhist\n",
    "df['MINUS_DI'] = MINUS_DI(df, timeperiod=14)\n",
    "df['MINUS_DM'] = MINUS_DM(df, timeperiod=14)\n",
    "df['PLUS_DI'] = PLUS_DI(df, timeperiod=14)\n",
    "df['PLUS_DM'] = PLUS_DM(df, timeperiod=14)\n",
    "df['PPO'] = PPO(df, fastperiod=12, slowperiod=26, matype=0)\n",
    "df['ROC'] = ROC(df, timeperiod=10)\n",
    "df['ROCP'] = ROCP(df, timeperiod=10)\n",
    "df['ROCR'] = ROCR(df, timeperiod=10)\n",
    "df['ROCR100'] = ROCR100(df, timeperiod=10)\n",
    "df['RSI'] = RSI(df, timeperiod=14)\n",
    "dftemp = STOCH(df, fastk_period=5, slowk_period=3, slowk_matype=0, slowd_period=3, slowd_matype=0)\n",
    "df['slowk'] = dftemp.slowk\n",
    "df['slowd'] = dftemp.slowd\n",
    "dftemp = STOCHF(df, fastk_period=5, fastd_period=3, fastd_matype=0)\n",
    "df['fastk'] = dftemp.fastk\n",
    "df['fastd'] = dftemp.fastd\n",
    "df['ULTOSC'] = ULTOSC(df, timeperiod1=7, timeperiod2=14, timeperiod3=28)\n",
    "df['WILLR'] = WILLR(df, timeperiod=14)\n",
    "#\n",
    "# Volatility Indicator Functions\n",
    "#\n",
    "df['ATR'] = ATR(df, timeperiod=14)\n",
    "df['NATR'] = NATR(df, timeperiod=14)\n",
    "df['TRANGE'] = TRANGE(df)\n",
    "#\n",
    "# Price Transform Functions\n",
    "#\n",
    "df['AVGPRICE'] = AVGPRICE(df)\n",
    "df['MEDPRICE'] = MEDPRICE(df)\n",
    "df['TYPPRICE'] = TYPPRICE(df)\n",
    "df['WCLPRICE'] = WCLPRICE(df)\n",
    "#\n",
    "# Statistic Functions\n",
    "#\n",
    "df['BETA'] = BETA(df, timeperiod=5)\n",
    "df['CORREL'] = CORREL(df, timeperiod=30)\n",
    "df['LINEARREG'] = LINEARREG(df, timeperiod=14)\n",
    "df['LINEARREG_ANGLE'] = LINEARREG_ANGLE(df, timeperiod=14)\n",
    "df['LINEARREG_INTERCEPT'] = LINEARREG_INTERCEPT(df, timeperiod=14)\n",
    "df['LINEARREG_SLOPE'] = LINEARREG_SLOPE(df, timeperiod=14)\n",
    "df['STDDEV'] = STDDEV(df, timeperiod=5, nbdev=1)\n",
    "df['TSF'] = TSF(df, timeperiod=14)\n",
    "df['VAR'] = VAR(df, timeperiod=5, nbdev=1)\n",
    "\n",
    "\n",
    "df.dropna(inplace=True)"
   ]
  },
  {
   "cell_type": "markdown",
   "metadata": {},
   "source": [
    "Get a list of all the funtions in TA-Lib"
   ]
  },
  {
   "cell_type": "markdown",
   "metadata": {},
   "source": [
    "# Re-classify and predict with added features"
   ]
  },
  {
   "cell_type": "code",
   "execution_count": 66,
   "metadata": {},
   "outputs": [
    {
     "name": "stdout",
     "output_type": "stream",
     "text": [
      "['open', 'high', 'low', 'close', 'volume', 'highlow_pct', 'pct_change', 'return', 'bbup', 'bbmid', 'bblow', 'DEMA', 'EMA', 'HT_TRENDLINE', 'KAMA', 'MA', 'MIDPOINT', 'MIDPRICE', 'SAR', 'SAREXT', 'SMA', 'T3', 'TEMA', 'TRIMA', 'WMA', 'ADX', 'APO', 'AroonDown', 'AroonUp', 'AroonOsc', 'BOP', 'CCI', 'CMO', 'DX', 'MACD', 'MACDsignal', 'MACDhist', 'MINUS_DI', 'MINUS_DM', 'PLUS_DI', 'PLUS_DM', 'PPO', 'ROC', 'ROCP', 'ROCR', 'ROCR100', 'RSI', 'slowk', 'slowd', 'fastk', 'fastd', 'ULTOSC', 'WILLR', 'ATR', 'NATR', 'TRANGE', 'AVGPRICE', 'MEDPRICE', 'TYPPRICE', 'WCLPRICE', 'BETA', 'CORREL', 'LINEARREG', 'LINEARREG_ANGLE', 'LINEARREG_INTERCEPT', 'LINEARREG_SLOPE', 'STDDEV', 'TSF', 'VAR']\n"
     ]
    }
   ],
   "source": [
    "# all the new columns!\n",
    "cols = df.columns.tolist()\n",
    "print(cols)"
   ]
  },
  {
   "cell_type": "code",
   "execution_count": 67,
   "metadata": {},
   "outputs": [],
   "source": [
    "X = np.array(df.drop(df.index[len(df)-1]))\n",
    "\n",
    "y = df['close'].shift(-1)\n",
    "y.drop(y.index[len(y)-1], inplace=True)\n",
    "y = np.array(y)"
   ]
  },
  {
   "cell_type": "code",
   "execution_count": 68,
   "metadata": {},
   "outputs": [
    {
     "name": "stdout",
     "output_type": "stream",
     "text": [
      "Accuracy of Linear Regression:  0.995640134235\n",
      "[-1.71365914  0.91078113  0.81486245  0.71084664  0.91590012  0.71418244\n",
      "  0.93674688  0.01803688  0.33512937  0.72445409  0.34467774  0.79568883\n",
      "  0.91550089 -0.09823695  0.85143617  0.7398173   0.83440967  0.72109334\n",
      "  0.86238688  0.91464505  0.96149776  0.46574864  0.78406657  0.71210595\n",
      "  0.66501949  0.94268609  0.21282536  0.83128826  0.63555977  0.92233638]\n",
      "Linear Regression Cross Validation score:  61.27%\n"
     ]
    }
   ],
   "source": [
    "# train / test\n",
    "from sklearn.model_selection import train_test_split\n",
    "X_train, X_test, y_train, y_test = train_test_split(X, y, test_size = .25, random_state=42)\n",
    "\n",
    "clf = LinearRegression()\n",
    "clf.fit(X_train,y_train)\n",
    "\n",
    "accuracy = clf.score(X_test, y_test)\n",
    "print(\"Accuracy of Linear Regression: \", accuracy)\n",
    "        \n",
    "# Predict the labels of the test data: y_pred\n",
    "y_pred = clf.predict(X_test)\n",
    "        \n",
    "# cross val score...\n",
    "scores = cross_val_score(clf, X, y, cv=30)\n",
    "    \n",
    "print(scores)\n",
    "print('Linear Regression Cross Validation score: ', '{:.2%}'.format(scores.mean()))"
   ]
  },
  {
   "cell_type": "markdown",
   "metadata": {},
   "source": [
    "# Plot with added features "
   ]
  },
  {
   "cell_type": "code",
   "execution_count": 69,
   "metadata": {
    "collapsed": true
   },
   "outputs": [],
   "source": [
    "test = df.ix[-30:,]  \n",
    "\n",
    "resultInd = df.ix[-30:]  \n",
    "resultInd['PredictedInd'] = clf.predict(test)"
   ]
  },
  {
   "cell_type": "code",
   "execution_count": 70,
   "metadata": {},
   "outputs": [
    {
     "data": {
      "image/png": "[encoded data removed]",
      "text/plain": [
       "<matplotlib.figure.Figure at 0x16b3bb7df28>"
      ]
     },
     "metadata": {},
     "output_type": "display_data"
    }
   ],
   "source": [
    "df_plot = pd.DataFrame(df['close'])\n",
    "df_plot = df_plot.join(result['Predicted'])\n",
    "df_plot = df_plot.join(resultInd['PredictedInd'])\n",
    "\n",
    "df_plot['20180401':pd.to_datetime('today')]['close'].plot(figsize=(15,6), color=\"green\", label='Close') \n",
    "df_plot['20180401':pd.to_datetime('today')]['Predicted'].plot(figsize=(15,6), color=\"blue\", label='Prediction 1') \n",
    "df_plot['20180401':pd.to_datetime('today')]['PredictedInd'].plot(figsize=(15,6), color=\"red\", label='Prediction 2 (with indicators)') \n",
    "\n",
    "plt.legend(loc=4)\n",
    "plt.xlabel('Date')\n",
    "plt.ylabel('Price')\n",
    "plt.title('Stock close price with 30 day predicted close')\n",
    "plt.show()\n"
   ]
  },
  {
   "cell_type": "markdown",
   "metadata": {},
   "source": [
    "# Conclusion\n",
    "It is amazing to see how machine learning can produce descent results with such little data.  Also, its no surprise that adding random features really did not add much to the model (possibly just added a lot of noise)."
   ]
  }
 ],
 "metadata": {
  "kernelspec": {
   "display_name": "Python 3",
   "language": "python",
   "name": "python3"
  },
  "language_info": {
   "codemirror_mode": {
    "name": "ipython",
    "version": 3
   },
   "file_extension": ".py",
   "mimetype": "text/x-python",
   "name": "python",
   "nbconvert_exporter": "python",
   "pygments_lexer": "ipython3",
   "version": "3.6.1"
  }
 },
 "nbformat": 4,
 "nbformat_minor": 2
}
