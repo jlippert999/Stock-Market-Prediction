{
 "cells": [
  {
   "cell_type": "markdown",
   "metadata": {},
   "source": [
    "# Linear Regression using stock market data and stock technical indicators\n",
    "\n",
    "This is a simple example using Linear Regression to predict stock prices. Stock data is loaded from the web using pandas datareader, a few features are added, and predictions are made using Linear Regression.\n",
    "\n",
    "Secondly, multiple features are added (although not throughly thought out) by calculating technical indicators using TA-Lib. Normally this is not recommended as it leads to overfitting (and quite possibly just creating a lot of noise).\n",
    "\n",
    "When time permits, I will dive deeper into the technical indicators, apply them properly, and use backward elimination to find those that add value to the model."
   ]
  },
  {
   "cell_type": "code",
   "execution_count": 21,
   "metadata": {},
   "outputs": [],
   "source": [
    "import pandas as pd\n",
    "import pandas_datareader.data as web\n",
    "import numpy as np\n",
    "import warnings\n",
    "import datetime\n",
    "from datetime import datetime as dt, timedelta\n",
    "import time\n",
    "warnings.filterwarnings('ignore')\n",
    "\n",
    "# machine learning...\n",
    "from sklearn import preprocessing, svm, cross_validation\n",
    "from sklearn.model_selection import cross_val_score\n",
    "from sklearn.linear_model import LinearRegression\n",
    "\n",
    "# visualization...\n",
    "import matplotlib \n",
    "import matplotlib.pyplot as plt\n",
    "import matplotlib.pylab as pylab\n",
    "from matplotlib.finance import candlestick_ohlc\n",
    "import matplotlib.dates as mdates\n",
    "\n",
    "# to calculate technical indicators\n",
    "import talib\n",
    "from talib.abstract import *\n",
    "\n",
    "matplotlib.style.use('ggplot')\n",
    "import sys"
   ]
  },
  {
   "cell_type": "markdown",
   "metadata": {},
   "source": [
    "## Load open, high, low, close data for Apple\n",
    "\n",
    "Load data for Apple using pandas datareader (Investors Exchange data)\n",
    " - more info: http://pandas-datareader.readthedocs.io/en/latest/remote_data.html#remote-data-iex"
   ]
  },
  {
   "cell_type": "code",
   "execution_count": 2,
   "metadata": {},
   "outputs": [
    {
     "name": "stdout",
     "output_type": "stream",
     "text": [
      "5y\n",
      "<class 'pandas.core.frame.DataFrame'>\n",
      "DatetimeIndex: 1258 entries, 2013-06-21 to 2018-06-19\n",
      "Data columns (total 5 columns):\n",
      "open      1258 non-null float64\n",
      "high      1258 non-null float64\n",
      "low       1258 non-null float64\n",
      "close     1258 non-null float64\n",
      "volume    1258 non-null int64\n",
      "dtypes: float64(4), int64(1)\n",
      "memory usage: 59.0 KB\n"
     ]
    },
    {
     "data": {
      "text/plain": [
       "DatetimeIndex(['2013-06-21', '2013-06-24', '2013-06-25', '2013-06-26',\n",
       "               '2013-06-27', '2013-06-28', '2013-07-01', '2013-07-02',\n",
       "               '2013-07-03', '2013-07-05',\n",
       "               ...\n",
       "               '2018-06-06', '2018-06-07', '2018-06-08', '2018-06-11',\n",
       "               '2018-06-12', '2018-06-13', '2018-06-14', '2018-06-15',\n",
       "               '2018-06-18', '2018-06-19'],\n",
       "              dtype='datetime64[ns]', name='date', length=1258, freq=None)"
      ]
     },
     "execution_count": 2,
     "metadata": {},
     "output_type": "execute_result"
    }
   ],
   "source": [
    "ticker = \"AAPL\"\n",
    "start = dt.today() - timedelta(days=5*365)\n",
    "end = dt.now()\n",
    "\n",
    "df = web.DataReader(ticker, 'iex', start, end) \n",
    "\n",
    "# convert index to datetime...\n",
    "df.index = pd.to_datetime(df.index)\n",
    "\n",
    "df.info()\n",
    "df.tail()\n",
    "df.index"
   ]
  },
  {
   "cell_type": "markdown",
   "metadata": {},
   "source": [
    "## Display as candlestick"
   ]
  },
  {
   "cell_type": "code",
   "execution_count": 3,
   "metadata": {},
   "outputs": [
    {
     "data": {
      "image/png": "[encoded data removed]",
      "text/plain": [
       "<matplotlib.figure.Figure at 0x224d1c68358>"
      ]
     },
     "metadata": {},
     "output_type": "display_data"
    }
   ],
   "source": [
    "# pull date out of index and convert\n",
    "df['date']= matplotlib.dates.date2num(df.index.to_pydatetime())\n",
    "\n",
    "# plot from beginning of year...\n",
    "start = matplotlib.dates.datestr2num('2018-01-01')\n",
    "\n",
    "# dataframe to plot\n",
    "ohlc =  df[['date','open','high','low','close']][df.date > start]\n",
    "f1, ax = plt.subplots(figsize = (15,5))\n",
    "\n",
    "# plot the candlesticks\n",
    "candlestick_ohlc(ax, ohlc.values, width=.6, colorup='green', colordown='red')\n",
    "ax.xaxis.set_major_formatter(mdates.DateFormatter('%Y-%m'))\n",
    "\n",
    "plt.show()\n",
    "\n",
    "# drop date column used for plot\n",
    "df = df.drop('date', axis=1)"
   ]
  },
  {
   "cell_type": "markdown",
   "metadata": {},
   "source": [
    "## Add a few Features to the data (later we'll add plenty more!)"
   ]
  },
  {
   "cell_type": "code",
   "execution_count": 5,
   "metadata": {
    "collapsed": true
   },
   "outputs": [],
   "source": [
    "# high low %...\n",
    "df['highlow_pct'] = (df['high'] - df['low']) / (df['low']*100)\n",
    "\n",
    "# percent change...\n",
    "df['pct_change'] = (df['close'] - df['open']) / (df['open']*100)\n",
    "\n",
    "# return...\n",
    "df['return']  =np.log(df['open'] / df['open'].shift(1))\n",
    "df.dropna(inplace=True)"
   ]
  },
  {
   "cell_type": "markdown",
   "metadata": {},
   "source": [
    "## Prepare the data for classification\n",
    "- set the target column (dependant variable)\n",
    "- how many days forward to predict"
   ]
  },
  {
   "cell_type": "markdown",
   "metadata": {},
   "source": [
    "Next, add a new column target_close that contains the close price n days into the future (n=prediction_days)\n"
   ]
  },
  {
   "cell_type": "markdown",
   "metadata": {},
   "source": [
    "#### Feature Matrix\n",
    "create a feature matrix with all the columns except target_close and scale the data"
   ]
  },
  {
   "cell_type": "code",
   "execution_count": 6,
   "metadata": {},
   "outputs": [],
   "source": [
    "# predict 10 days out\n",
    "prediction_days = 10"
   ]
  },
  {
   "cell_type": "code",
   "execution_count": 7,
   "metadata": {},
   "outputs": [
    {
     "data": {
      "text/plain": [
       "Index(['open', 'high', 'low', 'close', 'volume', 'highlow_pct', 'pct_change',\n",
       "       'return'],\n",
       "      dtype='object')"
      ]
     },
     "execution_count": 7,
     "metadata": {},
     "output_type": "execute_result"
    }
   ],
   "source": [
    "df.columns"
   ]
  },
  {
   "cell_type": "markdown",
   "metadata": {},
   "source": [
    "### Get features (except for last 10 days - what we are trying to predict)"
   ]
  },
  {
   "cell_type": "code",
   "execution_count": 8,
   "metadata": {},
   "outputs": [],
   "source": [
    "X = np.array(df.drop(df.index[len(df)-10]))\n",
    "X_forecast = X[-prediction_days:]\n",
    "X = X[:-prediction_days]"
   ]
  },
  {
   "cell_type": "markdown",
   "metadata": {},
   "source": [
    "Set y to the close -10 day (this is what the model will predict)"
   ]
  },
  {
   "cell_type": "code",
   "execution_count": 9,
   "metadata": {
    "collapsed": true
   },
   "outputs": [],
   "source": [
    "y = df['close'].shift(-prediction_days)\n",
    "y.drop(y.index[len(y)-prediction_days], inplace=True)\n",
    "y = np.array(y)\n",
    "y = y[:-prediction_days]"
   ]
  },
  {
   "cell_type": "code",
   "execution_count": 10,
   "metadata": {},
   "outputs": [
    {
     "name": "stdout",
     "output_type": "stream",
     "text": [
      "Lenght of x, y 1246 1246\n"
     ]
    }
   ],
   "source": [
    "print('Lenght of x, y', len(X), len(y))"
   ]
  },
  {
   "cell_type": "markdown",
   "metadata": {},
   "source": [
    "### Create Test and Train sets\n",
    "Use Cross validation to split into test and train data)"
   ]
  },
  {
   "cell_type": "code",
   "execution_count": 11,
   "metadata": {},
   "outputs": [
    {
     "name": "stdout",
     "output_type": "stream",
     "text": [
      "length of X_train and x_test:  996 250\n"
     ]
    }
   ],
   "source": [
    "X_train, X_test, y_train, y_test = cross_validation.train_test_split(X, y, test_size = 0.2)\n",
    "\n",
    "print('length of X_train and x_test: ', len(X_train), len(X_test))"
   ]
  },
  {
   "cell_type": "markdown",
   "metadata": {},
   "source": [
    "## Classify with Linear Regression"
   ]
  },
  {
   "cell_type": "code",
   "execution_count": 12,
   "metadata": {},
   "outputs": [
    {
     "name": "stdout",
     "output_type": "stream",
     "text": [
      "Accuracy of Linear Regression:  0.969613106314\n"
     ]
    }
   ],
   "source": [
    "clf = LinearRegression()\n",
    "clf.fit(X_train,y_train)\n",
    "\n",
    "accuracy = clf.score(X_test, y_test)\n",
    "print(\"Accuracy of Linear Regression: \", accuracy)"
   ]
  },
  {
   "cell_type": "markdown",
   "metadata": {},
   "source": [
    "## Predict the last 10 days"
   ]
  },
  {
   "cell_type": "code",
   "execution_count": 13,
   "metadata": {},
   "outputs": [
    {
     "name": "stdout",
     "output_type": "stream",
     "text": [
      "date\n",
      "2018-06-06    193.98\n",
      "2018-06-07    193.46\n",
      "2018-06-08    191.70\n",
      "2018-06-11    191.23\n",
      "2018-06-12    192.28\n",
      "2018-06-13    190.70\n",
      "2018-06-14    190.80\n",
      "2018-06-15    188.84\n",
      "2018-06-18    188.74\n",
      "2018-06-19    185.69\n",
      "Name: close, dtype: float64\n",
      "Predicted Close [ 192.46032382  192.29340719  190.84445991  190.43799626  191.4160666\n",
      "  191.12813336  189.37094356  187.88340278  188.3781452   185.74032022]\n"
     ]
    }
   ],
   "source": [
    "result = df.ix[-prediction_days:]  \n",
    "\n",
    "# save last 30 days predictions\n",
    "result['Predicted'] =  clf.predict(X_forecast)\n",
    "\n",
    "print(df.ix[-prediction_days:]['close'])\n",
    "print('Predicted Close',clf.predict(X_forecast))"
   ]
  },
  {
   "cell_type": "markdown",
   "metadata": {},
   "source": [
    "# Plot the predictions with the actual close"
   ]
  },
  {
   "cell_type": "code",
   "execution_count": 14,
   "metadata": {},
   "outputs": [
    {
     "data": {
      "image/png": "[encoded data removed]",
      "text/plain": [
       "<matplotlib.figure.Figure at 0x224d4e1c4e0>"
      ]
     },
     "metadata": {},
     "output_type": "display_data"
    }
   ],
   "source": [
    "df['20180401':pd.to_datetime('today')]['close'].plot(figsize=(15,6), color=\"green\", label='Close') \n",
    "result['Predicted'].plot(figsize=(15,6), color=\"blue\", label='Predicted Close') \n",
    "\n",
    "plt.legend(loc=4)\n",
    "plt.xlabel('Date')\n",
    "plt.ylabel('Price')\n",
    "plt.show()"
   ]
  },
  {
   "cell_type": "markdown",
   "metadata": {},
   "source": [
    "# Further Feature Engineering\n",
    "### Technical Analysis Indicators\n",
    "Now, brute force a bunch of stock indicators as features and re-classify.  Normally you would apply domain knowledge to properly setup each indicator and then go through the process of features elimination, but in order to save time lets just plow in a bunch of indicators to see if the prediction improves.\n",
    "\n",
    "Indicators were generated using TA-Lib (https://mrjbq7.github.io/ta-lib/).  In all cases the defaults were used for all functions."
   ]
  },
  {
   "cell_type": "markdown",
   "metadata": {},
   "source": [
    "### Function to generate features"
   ]
  },
  {
   "cell_type": "code",
   "execution_count": 15,
   "metadata": {
    "collapsed": true
   },
   "outputs": [],
   "source": [
    "# Overlap Studies Functions\n",
    "bb = BBANDS(df, timeperiod=5, nbdevup=2, nbdevdn=2, matype=0)\n",
    "df['bbup'] = bb.upperband\n",
    "df['bbmid'] = bb.middleband\n",
    "df['bblow'] = bb.lowerband\n",
    "df['DEMA'] = DEMA(df, timeperiod=30)\n",
    "df['EMA'] = EMA(df, timeperiod=30)\n",
    "df['HT_TRENDLINE'] = HT_TRENDLINE(df)\n",
    "df['KAMA'] = KAMA(df, timeperiod=30)\n",
    "df['MA'] = MA(df, timeperiod=30, matype=0)\n",
    "df['MIDPOINT'] = MIDPOINT(df, timeperiod=14)\n",
    "df['MIDPRICE'] = MIDPRICE(df, timeperiod=14)\n",
    "df['SAR'] = SAR(df, acceleration=0, maximum=0)\n",
    "df['SAREXT'] = SAREXT(df, startvalue=0, offsetonreverse=0, accelerationinitlong=0, accelerationlong=0, accelerationmaxlong=0, accelerationinitshort=0, accelerationshort=0, accelerationmaxshort=0)\n",
    "df['SMA'] = SMA(df, timeperiod=30)\n",
    "df['T3'] = T3(df, timeperiod=5, vfactor=0)\n",
    "df['TEMA'] = TEMA(df, timeperiod=30)\n",
    "df['TRIMA'] = TRIMA(df, timeperiod=30)\n",
    "df['WMA'] = WMA(df, timeperiod=30)\n",
    "#\n",
    "# Momentum Indicator Functions\n",
    "#\n",
    "df['ADX'] = ADX(df, timeperiod=14)\n",
    "df['APO'] = APO(df, fastperiod=12, slowperiod=26, matype=0)\n",
    "dftemp = AROON(df, timeperiod=14)\n",
    "df['AroonDown'] = dftemp.aroondown\n",
    "df['AroonUp'] = dftemp.aroonup\n",
    "df['AroonOsc'] = AROONOSC(df, timeperiod=14)\n",
    "df['BOP'] = BOP(df)\n",
    "df['CCI'] = CCI(df, timeperiod=14)\n",
    "df['CMO'] = CMO(df, timeperiod=14)\n",
    "df['DX'] = DX(df, timeperiod=14)\n",
    "dftemp =  MACDFIX(df, signalperiod=9)\n",
    "df['MACD'] = dftemp.macd\n",
    "df['MACDsignal'] = dftemp.macdsignal\n",
    "df['MACDhist'] = dftemp.macdhist\n",
    "df['MINUS_DI'] = MINUS_DI(df, timeperiod=14)\n",
    "df['MINUS_DM'] = MINUS_DM(df, timeperiod=14)\n",
    "df['PLUS_DI'] = PLUS_DI(df, timeperiod=14)\n",
    "df['PLUS_DM'] = PLUS_DM(df, timeperiod=14)\n",
    "df['PPO'] = PPO(df, fastperiod=12, slowperiod=26, matype=0)\n",
    "df['ROC'] = ROC(df, timeperiod=10)\n",
    "df['ROCP'] = ROCP(df, timeperiod=10)\n",
    "df['ROCR'] = ROCR(df, timeperiod=10)\n",
    "df['ROCR100'] = ROCR100(df, timeperiod=10)\n",
    "df['RSI'] = RSI(df, timeperiod=14)\n",
    "dftemp = STOCH(df, fastk_period=5, slowk_period=3, slowk_matype=0, slowd_period=3, slowd_matype=0)\n",
    "df['slowk'] = dftemp.slowk\n",
    "df['slowd'] = dftemp.slowd\n",
    "dftemp = STOCHF(df, fastk_period=5, fastd_period=3, fastd_matype=0)\n",
    "df['fastk'] = dftemp.fastk\n",
    "df['fastd'] = dftemp.fastd\n",
    "df['ULTOSC'] = ULTOSC(df, timeperiod1=7, timeperiod2=14, timeperiod3=28)\n",
    "df['WILLR'] = WILLR(df, timeperiod=14)\n",
    "#\n",
    "# Volatility Indicator Functions\n",
    "#\n",
    "df['ATR'] = ATR(df, timeperiod=14)\n",
    "df['NATR'] = NATR(df, timeperiod=14)\n",
    "df['TRANGE'] = TRANGE(df)\n",
    "#\n",
    "# Price Transform Functions\n",
    "#\n",
    "df['AVGPRICE'] = AVGPRICE(df)\n",
    "df['MEDPRICE'] = MEDPRICE(df)\n",
    "df['TYPPRICE'] = TYPPRICE(df)\n",
    "df['WCLPRICE'] = WCLPRICE(df)\n",
    "#\n",
    "# Statistic Functions\n",
    "#\n",
    "df['BETA'] = BETA(df, timeperiod=5)\n",
    "df['CORREL'] = CORREL(df, timeperiod=30)\n",
    "df['LINEARREG'] = LINEARREG(df, timeperiod=14)\n",
    "df['LINEARREG_ANGLE'] = LINEARREG_ANGLE(df, timeperiod=14)\n",
    "df['LINEARREG_INTERCEPT'] = LINEARREG_INTERCEPT(df, timeperiod=14)\n",
    "df['LINEARREG_SLOPE'] = LINEARREG_SLOPE(df, timeperiod=14)\n",
    "df['STDDEV'] = STDDEV(df, timeperiod=5, nbdev=1)\n",
    "df['TSF'] = TSF(df, timeperiod=14)\n",
    "df['VAR'] = VAR(df, timeperiod=5, nbdev=1)\n",
    "\n",
    "\n",
    "df.dropna(inplace=True)"
   ]
  },
  {
   "cell_type": "markdown",
   "metadata": {},
   "source": [
    "Get a list of all the funtions in TA-Lib"
   ]
  },
  {
   "cell_type": "markdown",
   "metadata": {},
   "source": [
    "# Re-classify and predict with added features"
   ]
  },
  {
   "cell_type": "code",
   "execution_count": 16,
   "metadata": {},
   "outputs": [
    {
     "name": "stdout",
     "output_type": "stream",
     "text": [
      "['open', 'high', 'low', 'close', 'volume', 'highlow_pct', 'pct_change', 'return', 'bbup', 'bbmid', 'bblow', 'DEMA', 'EMA', 'HT_TRENDLINE', 'KAMA', 'MA', 'MIDPOINT', 'MIDPRICE', 'SAR', 'SAREXT', 'SMA', 'T3', 'TEMA', 'TRIMA', 'WMA', 'ADX', 'APO', 'AroonDown', 'AroonUp', 'AroonOsc', 'BOP', 'CCI', 'CMO', 'DX', 'MACD', 'MACDsignal', 'MACDhist', 'MINUS_DI', 'MINUS_DM', 'PLUS_DI', 'PLUS_DM', 'PPO', 'ROC', 'ROCP', 'ROCR', 'ROCR100', 'RSI', 'slowk', 'slowd', 'fastk', 'fastd', 'ULTOSC', 'WILLR', 'ATR', 'NATR', 'TRANGE', 'AVGPRICE', 'MEDPRICE', 'TYPPRICE', 'WCLPRICE', 'BETA', 'CORREL', 'LINEARREG', 'LINEARREG_ANGLE', 'LINEARREG_INTERCEPT', 'LINEARREG_SLOPE', 'STDDEV', 'TSF', 'VAR']\n"
     ]
    }
   ],
   "source": [
    "# all the new columns!\n",
    "cols = df.columns.tolist()\n",
    "print(cols)"
   ]
  },
  {
   "cell_type": "code",
   "execution_count": 17,
   "metadata": {
    "collapsed": true
   },
   "outputs": [],
   "source": [
    "X = np.array(df.drop(df.index[len(df)-10]))\n",
    "X_forecast = X[-prediction_days:]\n",
    "X = X[:-prediction_days]\n",
    "\n",
    "y = df['close'].shift(-prediction_days)\n",
    "y.drop(y.index[len(y)-prediction_days], inplace=True)\n",
    "y = np.array(y)\n",
    "y = y[:-prediction_days]"
   ]
  },
  {
   "cell_type": "code",
   "execution_count": 18,
   "metadata": {},
   "outputs": [
    {
     "name": "stdout",
     "output_type": "stream",
     "text": [
      "Accuracy of Linear Regression:  0.971286512609\n",
      "[  0.32730557  -5.03046105  -5.80836821  -1.14635959  -0.39948984\n",
      "  -5.64463318  -0.09168646  -0.56246526  -5.33490146  -1.55614171\n",
      "  -1.17226656  -3.02649591  -0.22715385   0.01697873  -2.794383\n",
      "  -0.77736949 -10.34608842   0.06965748  -0.69141508  -0.84094036\n",
      "   0.55538886  -2.21338442  -0.35169014  -1.80702756  -0.3253869\n",
      "  -0.08398028  -4.07834709  -0.92659945  -1.21317455  -0.81530553]\n",
      "Linear Regression Cross Validation score:  -187.65%\n"
     ]
    }
   ],
   "source": [
    "# train / test\n",
    "from sklearn.model_selection import train_test_split\n",
    "X_train, X_test, y_train, y_test = train_test_split(X, y, test_size = .25, random_state=42)\n",
    "\n",
    "clf = LinearRegression()\n",
    "clf.fit(X_train,y_train)\n",
    "\n",
    "accuracy = clf.score(X_test, y_test)\n",
    "print(\"Accuracy of Linear Regression: \", accuracy)\n",
    "        \n",
    "# Predict the labels of the test data: y_pred\n",
    "y_pred = clf.predict(X_test)\n",
    "        \n",
    "# cross val score...\n",
    "scores = cross_val_score(clf, X, y, cv=30)\n",
    "    \n",
    "print(scores)\n",
    "print('Linear Regression Cross Validation score: ', '{:.2%}'.format(scores.mean()))"
   ]
  },
  {
   "cell_type": "markdown",
   "metadata": {},
   "source": [
    "## Predict the last 10 days with Technical Indicators"
   ]
  },
  {
   "cell_type": "code",
   "execution_count": 19,
   "metadata": {},
   "outputs": [
    {
     "name": "stdout",
     "output_type": "stream",
     "text": [
      "date\n",
      "2018-06-06    193.98\n",
      "2018-06-07    193.46\n",
      "2018-06-08    191.70\n",
      "2018-06-11    191.23\n",
      "2018-06-12    192.28\n",
      "2018-06-13    190.70\n",
      "2018-06-14    190.80\n",
      "2018-06-15    188.84\n",
      "2018-06-18    188.74\n",
      "2018-06-19    185.69\n",
      "Name: close, dtype: float64\n",
      "Predicted Close [ 187.19888307  187.76014102  187.16688592  186.79530923  187.54972997\n",
      "  187.01792432  186.79985933  185.03296129  187.23165649  186.77243344]\n"
     ]
    }
   ],
   "source": [
    "resultInd = df.ix[-prediction_days:]  \n",
    "\n",
    "# save last 30 days predictions\n",
    "resultInd['Predicted'] =  clf.predict(X_forecast)\n",
    "\n",
    "print(df.ix[-prediction_days:]['close'])\n",
    "print('Predicted Close',clf.predict(X_forecast))"
   ]
  },
  {
   "cell_type": "markdown",
   "metadata": {},
   "source": [
    "# Plot with Technical Indicators"
   ]
  },
  {
   "cell_type": "code",
   "execution_count": 20,
   "metadata": {},
   "outputs": [
    {
     "data": {
      "image/png": "[encoded data removed]",
      "text/plain": [
       "<matplotlib.figure.Figure at 0x224d4b20898>"
      ]
     },
     "metadata": {},
     "output_type": "display_data"
    }
   ],
   "source": [
    "df['20180401':pd.to_datetime('today')]['close'].plot(figsize=(15,6), color=\"green\", label='Close') \n",
    "result['Predicted'].plot(figsize=(15,6), color=\"blue\", label='Predicted Close')\n",
    "resultInd['Predicted'].plot(figsize=(15,6), color=\"blue\", label='Predicted Close with indicators')\n",
    "\n",
    "plt.legend(loc=4)\n",
    "plt.xlabel('Date')\n",
    "plt.ylabel('Price')\n",
    "plt.title('Stock close price with 30 day predicted close')\n",
    "plt.show()"
   ]
  },
  {
   "cell_type": "markdown",
   "metadata": {},
   "source": [
    "# Conclusion\n",
    "It is amazing to see how machine learning can produce descent results with such little data.  Also, its no surprise that adding random features really did not add much to the model (possibly just added a lot of noise)."
   ]
  }
 ],
 "metadata": {
  "kernelspec": {
   "display_name": "Python 3",
   "language": "python",
   "name": "python3"
  },
  "language_info": {
   "codemirror_mode": {
    "name": "ipython",
    "version": 3
   },
   "file_extension": ".py",
   "mimetype": "text/x-python",
   "name": "python",
   "nbconvert_exporter": "python",
   "pygments_lexer": "ipython3",
   "version": "3.6.1"
  }
 },
 "nbformat": 4,
 "nbformat_minor": 2
}
