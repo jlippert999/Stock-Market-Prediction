{
 "cells": [
  {
   "cell_type": "markdown",
   "metadata": {},
   "source": [
    "# Stock Prediction using LSTM\n",
    "\n",
    "Objective: use LSTM (Long Short-Term Memory) Neural Network to predict stock prices.   This type of neural network can be applied to time-series prediction problem.  This is the first attempt using LSTM and will be followed with others (Univariant, Multi-variant, Multi-step).\n",
    "\n",
    "Based on: https://machinelearningmastery.com/time-series-prediction-lstm-recurrent-neural-networks-python-keras/"
   ]
  },
  {
   "cell_type": "code",
   "execution_count": 16,
   "metadata": {},
   "outputs": [],
   "source": [
    "from __future__ import print_function\n",
    "import numpy as np \n",
    "import pandas as pd\n",
    "\n",
    "import pandas_datareader.data as web\n",
    "import warnings\n",
    "warnings.filterwarnings('ignore')\n",
    "\n",
    "from datetime import datetime as dt, timedelta\n",
    "import time\n",
    "\n",
    "from keras.layers.core import Dense, Activation, Dropout\n",
    "from keras.layers.recurrent import LSTM\n",
    "from keras.models import Sequential\n",
    "from sklearn.cross_validation import train_test_split\n",
    "from sklearn.preprocessing import MinMaxScaler\n",
    "from sklearn.metrics import mean_squared_error\n",
    "import matplotlib.pyplot as plt\n",
    "import math\n",
    "\n",
    "# to not display the warnings of tensorflow\n",
    "import os\n",
    "os.environ['TF_CPP_MIN_LOG_LEVEL']='2'\n",
    "\n",
    "# set random seed for reproducibility\n",
    "np.random.seed(123)"
   ]
  },
  {
   "cell_type": "markdown",
   "metadata": {},
   "source": [
    "Download Stock data for Apple (AAPL)"
   ]
  },
  {
   "cell_type": "code",
   "execution_count": 2,
   "metadata": {},
   "outputs": [
    {
     "name": "stdout",
     "output_type": "stream",
     "text": [
      "5y\n"
     ]
    }
   ],
   "source": [
    "ticker = \"AAPL\"\n",
    "start = dt.today() - timedelta(days=5*365)\n",
    "end = dt.now()\n",
    "\n",
    "df = web.DataReader(ticker, 'iex', start, end)\n",
    "\n",
    "# convert index to datetime\n",
    "df.index = pd.to_datetime(df.index)"
   ]
  },
  {
   "cell_type": "markdown",
   "metadata": {},
   "source": [
    "Convert close price to float and reshape to column vector"
   ]
  },
  {
   "cell_type": "code",
   "execution_count": 3,
   "metadata": {
    "collapsed": true
   },
   "outputs": [],
   "source": [
    "# save stock close as float\n",
    "stock_prices = df.close.values.astype('float32')\n",
    "\n",
    "# reshape to column vector\n",
    "stock_prices = stock_prices.reshape(len(stock_prices), 1)"
   ]
  },
  {
   "cell_type": "markdown",
   "metadata": {},
   "source": [
    "Calculate train / test size (70/30 split)"
   ]
  },
  {
   "cell_type": "code",
   "execution_count": 4,
   "metadata": {
    "collapsed": true
   },
   "outputs": [],
   "source": [
    "train_size = int(len(stock_prices) * 0.7)\n",
    "test_size = len(stock_prices) - train_size"
   ]
  },
  {
   "cell_type": "markdown",
   "metadata": {},
   "source": [
    "Normalize the data using sklearn scaler"
   ]
  },
  {
   "cell_type": "code",
   "execution_count": 5,
   "metadata": {
    "collapsed": true
   },
   "outputs": [],
   "source": [
    "scaler = MinMaxScaler(feature_range=(0, 1))\n",
    "stock_prices = scaler.fit_transform(stock_prices)\n",
    "\n",
    "# save scaled close price for review/visualization\n",
    "df['scaled_close'] = stock_prices"
   ]
  },
  {
   "cell_type": "markdown",
   "metadata": {},
   "source": [
    "Train/test split on scaled data"
   ]
  },
  {
   "cell_type": "code",
   "execution_count": 6,
   "metadata": {},
   "outputs": [
    {
     "name": "stdout",
     "output_type": "stream",
     "text": [
      "Number of training samples/ test samples: 880 378\n"
     ]
    }
   ],
   "source": [
    "train, test = stock_prices[0:train_size,:], stock_prices[train_size:len(stock_prices),:]\n",
    "\n",
    "print('Number of training samples/ test samples:', len(train), len(test))"
   ]
  },
  {
   "cell_type": "markdown",
   "metadata": {},
   "source": [
    "Function to convert an array of values into a time series dataset\n",
    "\n",
    "Result after function call\n",
    "\n",
    "** Insert \"LSTM Figure 1.png\"**"
   ]
  },
  {
   "cell_type": "code",
   "execution_count": 7,
   "metadata": {},
   "outputs": [],
   "source": [
    "def create_dataset(dataset, look_back):\n",
    "\tdataX, dataY = [], []\n",
    "\tfor i in range(len(dataset)-look_back-1):\n",
    "\t\ta = dataset[i:(i+look_back), 0]\n",
    "\t\tdataX.append(a)\n",
    "\t\tdataY.append(dataset[i + look_back, 0])\n",
    "\treturn np.array(dataX), np.array(dataY)\n",
    "\n",
    "# convert Apple's stock price data into time series dataset\n",
    "X_train, y_train = create_dataset(train, 7)\n",
    "X_test, y_test = create_dataset(test, 7)"
   ]
  },
  {
   "cell_type": "markdown",
   "metadata": {},
   "source": [
    "Reshape input of the LSTM to be format [samples, time steps, features]\n",
    "\n",
    "**Insert \"LSTM Figure 2.png\"**"
   ]
  },
  {
   "cell_type": "code",
   "execution_count": 8,
   "metadata": {
    "collapsed": true
   },
   "outputs": [],
   "source": [
    "X_train = np.reshape(X_train, (X_train.shape[0], X_train.shape[1], 1))\n",
    "X_test = np.reshape(X_test, (X_test.shape[0], X_test.shape[1], 1))"
   ]
  },
  {
   "cell_type": "markdown",
   "metadata": {},
   "source": [
    "### Create and fit the LSTM network\n",
    "\n",
    "TODO: add more hidden layers"
   ]
  },
  {
   "cell_type": "code",
   "execution_count": 9,
   "metadata": {},
   "outputs": [
    {
     "name": "stdout",
     "output_type": "stream",
     "text": [
      "Epoch 1/100\n",
      "872/872 [==============================] - 3s 3ms/step - loss: 0.0566\n",
      "Epoch 2/100\n",
      "872/872 [==============================] - 2s 2ms/step - loss: 0.0111\n",
      "Epoch 3/100\n",
      "872/872 [==============================] - 2s 2ms/step - loss: 0.0037\n",
      "Epoch 4/100\n",
      "872/872 [==============================] - 2s 2ms/step - loss: 7.1254e-04\n",
      "Epoch 5/100\n",
      "872/872 [==============================] - 2s 2ms/step - loss: 3.8680e-04\n",
      "Epoch 6/100\n",
      "872/872 [==============================] - 2s 2ms/step - loss: 3.7057e-04\n",
      "Epoch 7/100\n",
      "872/872 [==============================] - 2s 2ms/step - loss: 3.6130e-04\n",
      "Epoch 8/100\n",
      "872/872 [==============================] - 2s 2ms/step - loss: 3.5449e-04\n",
      "Epoch 9/100\n",
      "872/872 [==============================] - 2s 3ms/step - loss: 3.3468e-04\n",
      "Epoch 10/100\n",
      "872/872 [==============================] - 2s 2ms/step - loss: 3.1668e-04\n",
      "Epoch 11/100\n",
      "872/872 [==============================] - 2s 2ms/step - loss: 3.2375e-04\n",
      "Epoch 12/100\n",
      "872/872 [==============================] - 2s 2ms/step - loss: 2.8942e-04\n",
      "Epoch 13/100\n",
      "872/872 [==============================] - 2s 2ms/step - loss: 2.9329e-04\n",
      "Epoch 14/100\n",
      "872/872 [==============================] - 2s 2ms/step - loss: 2.8096e-04\n",
      "Epoch 15/100\n",
      "872/872 [==============================] - 2s 2ms/step - loss: 2.8048e-04\n",
      "Epoch 16/100\n",
      "872/872 [==============================] - 2s 2ms/step - loss: 2.7255e-04\n",
      "Epoch 17/100\n",
      "872/872 [==============================] - 2s 2ms/step - loss: 2.7270e-04\n",
      "Epoch 18/100\n",
      "872/872 [==============================] - 2s 2ms/step - loss: 2.6938e-04\n",
      "Epoch 19/100\n",
      "872/872 [==============================] - 2s 2ms/step - loss: 2.7110e-04\n",
      "Epoch 20/100\n",
      "872/872 [==============================] - 2s 2ms/step - loss: 2.5878e-04\n",
      "Epoch 21/100\n",
      "872/872 [==============================] - 2s 2ms/step - loss: 2.6868e-04\n",
      "Epoch 22/100\n",
      "872/872 [==============================] - 2s 2ms/step - loss: 2.5372e-04\n",
      "Epoch 23/100\n",
      "872/872 [==============================] - 2s 2ms/step - loss: 2.5455e-04\n",
      "Epoch 24/100\n",
      "872/872 [==============================] - 2s 2ms/step - loss: 2.4505e-04\n",
      "Epoch 25/100\n",
      "872/872 [==============================] - 2s 2ms/step - loss: 2.4877e-04\n",
      "Epoch 26/100\n",
      "872/872 [==============================] - 2s 2ms/step - loss: 2.3659e-04\n",
      "Epoch 27/100\n",
      "872/872 [==============================] - 2s 2ms/step - loss: 2.4938e-04\n",
      "Epoch 28/100\n",
      "872/872 [==============================] - 2s 2ms/step - loss: 2.4393e-04\n",
      "Epoch 29/100\n",
      "872/872 [==============================] - 2s 2ms/step - loss: 2.3133e-04\n",
      "Epoch 30/100\n",
      "872/872 [==============================] - 2s 2ms/step - loss: 2.2740e-04\n",
      "Epoch 31/100\n",
      "872/872 [==============================] - 2s 2ms/step - loss: 2.3190e-04\n",
      "Epoch 32/100\n",
      "872/872 [==============================] - 2s 2ms/step - loss: 2.2951e-04\n",
      "Epoch 33/100\n",
      "872/872 [==============================] - 2s 2ms/step - loss: 2.1349e-04\n",
      "Epoch 34/100\n",
      "872/872 [==============================] - 2s 2ms/step - loss: 2.1267e-04\n",
      "Epoch 35/100\n",
      "872/872 [==============================] - 2s 2ms/step - loss: 2.1266e-04\n",
      "Epoch 36/100\n",
      "872/872 [==============================] - 2s 2ms/step - loss: 2.0588e-04\n",
      "Epoch 37/100\n",
      "872/872 [==============================] - 2s 2ms/step - loss: 2.0209e-04\n",
      "Epoch 38/100\n",
      "872/872 [==============================] - 2s 2ms/step - loss: 2.0473e-04\n",
      "Epoch 39/100\n",
      "872/872 [==============================] - 2s 2ms/step - loss: 1.8641e-04\n",
      "Epoch 40/100\n",
      "872/872 [==============================] - 2s 2ms/step - loss: 1.8582e-04\n",
      "Epoch 41/100\n",
      "872/872 [==============================] - 2s 2ms/step - loss: 1.7483e-04\n",
      "Epoch 42/100\n",
      "872/872 [==============================] - 2s 2ms/step - loss: 1.6360e-04\n",
      "Epoch 43/100\n",
      "872/872 [==============================] - 2s 2ms/step - loss: 1.6164e-04\n",
      "Epoch 44/100\n",
      "872/872 [==============================] - 2s 2ms/step - loss: 1.5245e-04\n",
      "Epoch 45/100\n",
      "872/872 [==============================] - 2s 2ms/step - loss: 1.5073e-04\n",
      "Epoch 46/100\n",
      "872/872 [==============================] - 2s 2ms/step - loss: 1.4364e-04\n",
      "Epoch 47/100\n",
      "872/872 [==============================] - 2s 2ms/step - loss: 1.3642e-04\n",
      "Epoch 48/100\n",
      "872/872 [==============================] - 2s 2ms/step - loss: 1.3398e-04\n",
      "Epoch 49/100\n",
      "872/872 [==============================] - 2s 2ms/step - loss: 1.3399e-04\n",
      "Epoch 50/100\n",
      "872/872 [==============================] - 2s 2ms/step - loss: 1.3315e-04\n",
      "Epoch 51/100\n",
      "872/872 [==============================] - 2s 2ms/step - loss: 1.2957e-04\n",
      "Epoch 52/100\n",
      "872/872 [==============================] - 2s 2ms/step - loss: 1.3243e-04\n",
      "Epoch 53/100\n",
      "872/872 [==============================] - 2s 2ms/step - loss: 1.2748e-04\n",
      "Epoch 54/100\n",
      "872/872 [==============================] - 2s 2ms/step - loss: 1.2432e-04\n",
      "Epoch 55/100\n",
      "872/872 [==============================] - 2s 2ms/step - loss: 1.1803e-04\n",
      "Epoch 56/100\n",
      "872/872 [==============================] - 2s 2ms/step - loss: 1.1987e-04\n",
      "Epoch 57/100\n",
      "872/872 [==============================] - 2s 2ms/step - loss: 1.3075e-04\n",
      "Epoch 58/100\n",
      "872/872 [==============================] - 2s 2ms/step - loss: 1.3106e-04\n",
      "Epoch 59/100\n",
      "872/872 [==============================] - 2s 2ms/step - loss: 1.2329e-04\n",
      "Epoch 60/100\n",
      "872/872 [==============================] - 2s 2ms/step - loss: 1.2453e-04\n",
      "Epoch 61/100\n",
      "872/872 [==============================] - 2s 2ms/step - loss: 1.1945e-04\n",
      "Epoch 62/100\n",
      "872/872 [==============================] - 2s 2ms/step - loss: 1.2623e-04\n",
      "Epoch 63/100\n",
      "872/872 [==============================] - 2s 2ms/step - loss: 1.1739e-04\n",
      "Epoch 64/100\n",
      "872/872 [==============================] - 2s 2ms/step - loss: 1.2173e-04\n",
      "Epoch 65/100\n",
      "872/872 [==============================] - 2s 2ms/step - loss: 1.2021e-04\n",
      "Epoch 66/100\n",
      "872/872 [==============================] - 2s 2ms/step - loss: 1.1778e-04\n",
      "Epoch 67/100\n",
      "872/872 [==============================] - 2s 2ms/step - loss: 1.2558e-04\n",
      "Epoch 68/100\n",
      "872/872 [==============================] - 2s 2ms/step - loss: 1.2254e-04\n",
      "Epoch 69/100\n",
      "872/872 [==============================] - 2s 2ms/step - loss: 1.2338e-04\n",
      "Epoch 70/100\n",
      "872/872 [==============================] - 2s 2ms/step - loss: 1.2117e-04\n",
      "Epoch 71/100\n",
      "872/872 [==============================] - 2s 2ms/step - loss: 1.2299e-04\n",
      "Epoch 72/100\n",
      "872/872 [==============================] - 2s 2ms/step - loss: 1.3169e-04\n",
      "Epoch 73/100\n",
      "872/872 [==============================] - 2s 2ms/step - loss: 1.1645e-04\n",
      "Epoch 74/100\n",
      "872/872 [==============================] - 2s 2ms/step - loss: 1.2049e-04\n",
      "Epoch 75/100\n",
      "872/872 [==============================] - 2s 2ms/step - loss: 1.1379e-04\n",
      "Epoch 76/100\n",
      "872/872 [==============================] - 2s 2ms/step - loss: 1.2286e-04\n",
      "Epoch 77/100\n",
      "872/872 [==============================] - 2s 2ms/step - loss: 1.1767e-04\n",
      "Epoch 78/100\n",
      "872/872 [==============================] - 2s 2ms/step - loss: 1.1428e-04\n",
      "Epoch 79/100\n",
      "872/872 [==============================] - 2s 2ms/step - loss: 1.1377e-04\n",
      "Epoch 80/100\n",
      "872/872 [==============================] - 2s 2ms/step - loss: 1.1655e-04\n",
      "Epoch 81/100\n",
      "872/872 [==============================] - 2s 2ms/step - loss: 1.1409e-04\n",
      "Epoch 82/100\n",
      "872/872 [==============================] - 2s 2ms/step - loss: 1.1538e-04\n",
      "Epoch 83/100\n",
      "872/872 [==============================] - 2s 2ms/step - loss: 1.1647e-04\n",
      "Epoch 84/100\n",
      "872/872 [==============================] - 2s 2ms/step - loss: 1.1786e-04\n",
      "Epoch 85/100\n",
      "872/872 [==============================] - 2s 2ms/step - loss: 1.1765e-04\n",
      "Epoch 86/100\n",
      "872/872 [==============================] - 2s 2ms/step - loss: 1.1909e-04\n",
      "Epoch 87/100\n",
      "872/872 [==============================] - 2s 2ms/step - loss: 1.1635e-04\n",
      "Epoch 88/100\n",
      "872/872 [==============================] - 2s 2ms/step - loss: 1.1417e-04\n",
      "Epoch 89/100\n",
      "872/872 [==============================] - 2s 2ms/step - loss: 1.1663e-04\n",
      "Epoch 90/100\n",
      "872/872 [==============================] - 2s 2ms/step - loss: 1.1746e-04\n",
      "Epoch 91/100\n",
      "872/872 [==============================] - 2s 2ms/step - loss: 1.1752e-04\n",
      "Epoch 92/100\n",
      "872/872 [==============================] - 2s 2ms/step - loss: 1.1590e-04\n",
      "Epoch 93/100\n",
      "872/872 [==============================] - 2s 2ms/step - loss: 1.1593e-04\n",
      "Epoch 94/100\n",
      "872/872 [==============================] - 2s 2ms/step - loss: 1.2192e-04\n",
      "Epoch 95/100\n"
     ]
    },
    {
     "name": "stdout",
     "output_type": "stream",
     "text": [
      "872/872 [==============================] - 2s 2ms/step - loss: 1.1772e-04\n",
      "Epoch 96/100\n",
      "872/872 [==============================] - 2s 2ms/step - loss: 1.2107e-04\n",
      "Epoch 97/100\n",
      "872/872 [==============================] - 2s 2ms/step - loss: 1.1544e-04\n",
      "Epoch 98/100\n",
      "872/872 [==============================] - 2s 2ms/step - loss: 1.1428e-04\n",
      "Epoch 99/100\n",
      "872/872 [==============================] - 2s 2ms/step - loss: 1.2554e-04\n",
      "Epoch 100/100\n",
      "872/872 [==============================] - 2s 2ms/step - loss: 1.1456e-04\n"
     ]
    },
    {
     "data": {
      "text/plain": [
       "<keras.callbacks.History at 0x1e71bd60cf8>"
      ]
     },
     "execution_count": 9,
     "metadata": {},
     "output_type": "execute_result"
    }
   ],
   "source": [
    "model = Sequential()\n",
    "model.add(LSTM(4, input_shape=(7, 1)))\n",
    "model.add(Dense(1))\n",
    "model.compile(loss='mse', optimizer='adam')\n",
    "model.fit(X_train, y_train, nb_epoch=100, batch_size=3)"
   ]
  },
  {
   "cell_type": "markdown",
   "metadata": {},
   "source": [
    "### Make predictions"
   ]
  },
  {
   "cell_type": "code",
   "execution_count": 10,
   "metadata": {
    "collapsed": true
   },
   "outputs": [],
   "source": [
    "trainPredict = model.predict(X_train)\n",
    "testPredict = model.predict(X_test)"
   ]
  },
  {
   "cell_type": "markdown",
   "metadata": {},
   "source": [
    "Unscale predictions and targets"
   ]
  },
  {
   "cell_type": "code",
   "execution_count": 11,
   "metadata": {
    "collapsed": true
   },
   "outputs": [],
   "source": [
    "trainPredict = scaler.inverse_transform(trainPredict)\n",
    "y_train = scaler.inverse_transform([y_train])\n",
    "testPredict = scaler.inverse_transform(testPredict)\n",
    "y_test = scaler.inverse_transform([y_test])"
   ]
  },
  {
   "cell_type": "markdown",
   "metadata": {},
   "source": [
    "Calculate root mean squared error"
   ]
  },
  {
   "cell_type": "code",
   "execution_count": 12,
   "metadata": {},
   "outputs": [
    {
     "name": "stdout",
     "output_type": "stream",
     "text": [
      "Train Score: 1.59 RMSE\n",
      "Test Score: 8.18 RMSE\n"
     ]
    }
   ],
   "source": [
    "trainScore = math.sqrt(mean_squared_error(y_train[0], trainPredict[:,0]))\n",
    "print('Train Score: %.2f RMSE' % (trainScore))\n",
    "testScore = math.sqrt(mean_squared_error(y_test[0], testPredict[:,0]))\n",
    "print('Test Score: %.2f RMSE' % (testScore))"
   ]
  },
  {
   "cell_type": "markdown",
   "metadata": {},
   "source": [
    "### Create a DataFrame for visualization"
   ]
  },
  {
   "cell_type": "code",
   "execution_count": 13,
   "metadata": {
    "collapsed": true
   },
   "outputs": [],
   "source": [
    "# get the test data from web dataset\n",
    "df_plot = df.iloc[len(df) - len(testPredict):len(df),:]"
   ]
  },
  {
   "cell_type": "code",
   "execution_count": 14,
   "metadata": {
    "collapsed": true
   },
   "outputs": [],
   "source": [
    "# setup date column\n",
    "df_plot['date'] = df_plot.index\n",
    "df_plot.reset_index(drop=True, inplace=True)\n",
    "\n",
    "# add the predictions in\n",
    "df_plot['prediction'] = pd.DataFrame(testPredict)\n",
    "df_plot['date'] = pd.to_datetime(df_plot['date'])\n",
    "\n",
    "# reset index\n",
    "df_plot.set_index('date', inplace=True)"
   ]
  },
  {
   "cell_type": "markdown",
   "metadata": {},
   "source": [
    "### Plot Stock Price with Prediction"
   ]
  },
  {
   "cell_type": "code",
   "execution_count": 17,
   "metadata": {},
   "outputs": [
    {
     "data": {
      "image/png": "[encoded data removed]",
      "text/plain": [
       "<matplotlib.figure.Figure at 0x1e71d22e128>"
      ]
     },
     "metadata": {},
     "output_type": "display_data"
    }
   ],
   "source": [
    "df_plot['close'].plot(figsize=(15,6), color=\"green\")\n",
    "df_plot['prediction'].plot(figsize=(15,6), color=\"red\")\n",
    "plt.legend(loc=4)\n",
    "plt.xlabel('Date')\n",
    "plt.ylabel('Price')\n",
    "plt.show()"
   ]
  },
  {
   "cell_type": "markdown",
   "metadata": {},
   "source": [
    "## Conclusion \n",
    "\n",
    "There you have it.  Although not perfect, LSTM does a fairly good job in its prediction.  Later I will add more hidden layers to see if the model improves.\n",
    "\n",
    "It would be interesting to see how well it predicts stock price movement.  When time permits I'll give that a go!"
   ]
  }
 ],
 "metadata": {
  "kernelspec": {
   "display_name": "Python 3",
   "language": "python",
   "name": "python3"
  },
  "language_info": {
   "codemirror_mode": {
    "name": "ipython",
    "version": 3
   },
   "file_extension": ".py",
   "mimetype": "text/x-python",
   "name": "python",
   "nbconvert_exporter": "python",
   "pygments_lexer": "ipython3",
   "version": "3.6.1"
  }
 },
 "nbformat": 4,
 "nbformat_minor": 2
}
